{
 "cells": [
  {
   "cell_type": "markdown",
   "id": "6c519f0e",
   "metadata": {},
   "source": [
    "# Booleans and Conditionals"
   ]
  },
  {
   "cell_type": "code",
   "execution_count": 3,
   "id": "d9bac5af",
   "metadata": {},
   "outputs": [
    {
     "name": "stdout",
     "output_type": "stream",
     "text": [
      "True\n",
      "<class 'bool'>\n",
      "False\n",
      "<class 'bool'>\n"
     ]
    }
   ],
   "source": [
    "x=True\n",
    "y=False\n",
    "\n",
    "print(x)\n",
    "print(type(x))\n",
    "\n",
    "print(y)\n",
    "print(type(y))"
   ]
  },
  {
   "cell_type": "markdown",
   "id": "8c3a00d3",
   "metadata": {},
   "source": [
    "## Comparison Operations\n",
    "1. a == b \ta equal to b \t\t\n",
    "2. a != b \ta not equal to b\n",
    "3. a < b \ta less than b\n",
    "4. a > b \ta greater than b\n",
    "5. a <= b \ta less than or equal to b\n",
    "6. a >= b \ta greater than or equal to b"
   ]
  },
  {
   "cell_type": "code",
   "execution_count": 2,
   "id": "9f0af20d",
   "metadata": {},
   "outputs": [
    {
     "name": "stdout",
     "output_type": "stream",
     "text": [
      "Will this person eligible for a driving :  False\n",
      "Will this person eligible for a driving :  True\n"
     ]
    }
   ],
   "source": [
    "def can_own_driving_license(age):\n",
    "    \"\"\"can someone own a driving license??\"\"\"\n",
    "    # you need to be atleast 18 yrs old in India\n",
    "    \n",
    "    return age>=18\n",
    "\n",
    "print(\"Will this person eligible for a driving : \", can_own_driving_license(17))\n",
    "print(\"Will this person eligible for a driving : \", can_own_driving_license(22))"
   ]
  },
  {
   "cell_type": "code",
   "execution_count": 4,
   "id": "b79fce98",
   "metadata": {},
   "outputs": [
    {
     "name": "stdout",
     "output_type": "stream",
     "text": [
      "True\n",
      "True\n",
      "False\n"
     ]
    }
   ],
   "source": [
    "print(3==3)\n",
    "print(3.0 == 3)\n",
    "print('3'==3)"
   ]
  },
  {
   "cell_type": "code",
   "execution_count": 5,
   "id": "f6a0d73b",
   "metadata": {},
   "outputs": [
    {
     "name": "stdout",
     "output_type": "stream",
     "text": [
      "this number is even ??  False\n",
      "this number is even ??  True\n"
     ]
    }
   ],
   "source": [
    "def is_even(num):\n",
    "    return num%2==0\n",
    "\n",
    "print(\"this number is even ?? \", is_even(35))\n",
    "print(\"this number is even ?? \", is_even(34))"
   ]
  },
  {
   "cell_type": "code",
   "execution_count": 8,
   "id": "d548e409",
   "metadata": {},
   "outputs": [
    {
     "name": "stdout",
     "output_type": "stream",
     "text": [
      "can he own a driving license in India ?? True\n",
      "can he own a driving license in India ?? False\n",
      "can he own a driving license in India ?? False\n"
     ]
    }
   ],
   "source": [
    "def can_own_driving_license_corrected(age, is_indian):\n",
    "    \"\"\"can someone own a driving license??\"\"\"\n",
    "    # you need to be atleast 18 yrs old in India\n",
    "    \n",
    "    return (age>=18) and is_indian\n",
    "\n",
    "print(\"can he own a driving license in India ??\", can_own_driving_license_corrected(24, True))\n",
    "print(\"can he own a driving license in India ??\", can_own_driving_license_corrected(24, False))\n",
    "print(\"can he own a driving license in India ??\", can_own_driving_license_corrected(17, True))"
   ]
  },
  {
   "cell_type": "code",
   "execution_count": 9,
   "id": "b0947e78",
   "metadata": {},
   "outputs": [
    {
     "data": {
      "text/plain": [
       "True"
      ]
     },
     "execution_count": 9,
     "metadata": {},
     "output_type": "execute_result"
    }
   ],
   "source": [
    "False or True or False"
   ]
  },
  {
   "cell_type": "code",
   "execution_count": 10,
   "id": "e7c0b583",
   "metadata": {},
   "outputs": [
    {
     "data": {
      "text/plain": [
       "False"
      ]
     },
     "execution_count": 10,
     "metadata": {},
     "output_type": "execute_result"
    }
   ],
   "source": [
    "False and True or False"
   ]
  },
  {
   "cell_type": "markdown",
   "id": "961a770b",
   "metadata": {},
   "source": [
    "##  Conditionals\n",
    "\n",
    "Booleans are most useful when combined with conditional statements, using the keywords if, elif, and else.\n",
    "\n",
    "Conditional statements, often referred to as if-then statements, let you control what pieces of code are run based on the value of some Boolean condition."
   ]
  },
  {
   "cell_type": "code",
   "execution_count": 12,
   "id": "7468b737",
   "metadata": {
    "scrolled": true
   },
   "outputs": [
    {
     "name": "stdout",
     "output_type": "stream",
     "text": [
      "x is a postive value 3\n",
      "x is equal to 0\n",
      "x is a negative value -4\n"
     ]
    }
   ],
   "source": [
    "def positive_negative(x):\n",
    "    if(x>0):\n",
    "        print(\"x is a postive value\", x)\n",
    "    elif(x<0):\n",
    "        print(\"x is a negative value\", x)\n",
    "    else: \n",
    "        print(\"x is equal to 0\")\n",
    "        \n",
    "positive_negative(3)\n",
    "positive_negative(0)\n",
    "positive_negative(-4)"
   ]
  },
  {
   "cell_type": "markdown",
   "id": "a19796d0",
   "metadata": {},
   "source": [
    "## Boolean Conversion"
   ]
  },
  {
   "cell_type": "code",
   "execution_count": 13,
   "id": "6f5ed3cb",
   "metadata": {},
   "outputs": [
    {
     "name": "stdout",
     "output_type": "stream",
     "text": [
      "True\n",
      "False\n",
      "True\n",
      "False\n"
     ]
    }
   ],
   "source": [
    "print(bool(1)) # all numbers are treated as true, except 0\n",
    "print(bool(0))\n",
    "print(bool(\"asf\")) # all strings are treated as true, except the empty string \"\"\n",
    "print(bool(\"\")) # Generally empty sequences (strings, lists, and other types we've yet to see like lists and tuples)\n",
    "                # are \"falsey\" and the rest are \"truthy\""
   ]
  },
  {
   "cell_type": "markdown",
   "id": "5c49457c-ae66-4263-a6aa-0221ad951d88",
   "metadata": {},
   "source": [
    "## Comparing Sequences and Other Types"
   ]
  },
  {
   "cell_type": "code",
   "execution_count": 1,
   "id": "1158ef59",
   "metadata": {},
   "outputs": [
    {
     "data": {
      "text/plain": [
       "'Trondheim'"
      ]
     },
     "execution_count": 1,
     "metadata": {},
     "output_type": "execute_result"
    }
   ],
   "source": [
    "string1, string2, string3 = '', 'Trondheim', 'Hammer Dance'\n",
    "non_null = string1 or string2 or string3\n",
    "non_null"
   ]
  },
  {
   "cell_type": "code",
   "execution_count": 3,
   "id": "af296738-f9da-4f17-9806-c63040a1c262",
   "metadata": {},
   "outputs": [
    {
     "data": {
      "text/plain": [
       "'Hammer Dance'"
      ]
     },
     "execution_count": 3,
     "metadata": {},
     "output_type": "execute_result"
    }
   ],
   "source": [
    "string4, string5, string6 = 'ayo', 'Trondheim', 'Hammer Dance'\n",
    "non_null = string4 and string5 and string6\n",
    "non_null"
   ]
  },
  {
   "cell_type": "code",
   "execution_count": 5,
   "id": "8eabfb0b-8557-48a7-a59b-220cd1e71a54",
   "metadata": {},
   "outputs": [
    {
     "data": {
      "text/plain": [
       "True"
      ]
     },
     "execution_count": 5,
     "metadata": {},
     "output_type": "execute_result"
    }
   ],
   "source": [
    "(1, 2, 3)              < (1, 2, 4)"
   ]
  },
  {
   "cell_type": "code",
   "execution_count": 6,
   "id": "9f29d7b7-bcd9-401c-b73c-ab8e18d43bc5",
   "metadata": {},
   "outputs": [
    {
     "data": {
      "text/plain": [
       "True"
      ]
     },
     "execution_count": 6,
     "metadata": {},
     "output_type": "execute_result"
    }
   ],
   "source": [
    "[1, 2, 3]              < [1, 2, 4]"
   ]
  },
  {
   "cell_type": "code",
   "execution_count": 7,
   "id": "eff15503-faa1-4cd4-b543-611a6c35f1f7",
   "metadata": {},
   "outputs": [
    {
     "data": {
      "text/plain": [
       "True"
      ]
     },
     "execution_count": 7,
     "metadata": {},
     "output_type": "execute_result"
    }
   ],
   "source": [
    "'ABC' < 'C' < 'Pascal' < 'Python'"
   ]
  },
  {
   "cell_type": "code",
   "execution_count": 8,
   "id": "ade085bd-1eee-4a94-bd1b-b87a8a0da6f7",
   "metadata": {},
   "outputs": [
    {
     "data": {
      "text/plain": [
       "True"
      ]
     },
     "execution_count": 8,
     "metadata": {},
     "output_type": "execute_result"
    }
   ],
   "source": [
    "(1, 2, 3, 4)           < (1, 2, 4)"
   ]
  },
  {
   "cell_type": "code",
   "execution_count": 9,
   "id": "bff9eaea-93a6-426a-aa26-4791326a6eff",
   "metadata": {},
   "outputs": [
    {
     "data": {
      "text/plain": [
       "True"
      ]
     },
     "execution_count": 9,
     "metadata": {},
     "output_type": "execute_result"
    }
   ],
   "source": [
    "(1, 2)                 < (1, 2, -1)"
   ]
  },
  {
   "cell_type": "code",
   "execution_count": 10,
   "id": "9984a5e1-5ee6-4589-8ab0-197b02191d37",
   "metadata": {},
   "outputs": [
    {
     "data": {
      "text/plain": [
       "True"
      ]
     },
     "execution_count": 10,
     "metadata": {},
     "output_type": "execute_result"
    }
   ],
   "source": [
    "(1, 2, 3)             == (1.0, 2.0, 3.0)"
   ]
  },
  {
   "cell_type": "code",
   "execution_count": 11,
   "id": "7412e383-3acf-4c12-95f1-b85d92931578",
   "metadata": {},
   "outputs": [
    {
     "data": {
      "text/plain": [
       "True"
      ]
     },
     "execution_count": 11,
     "metadata": {},
     "output_type": "execute_result"
    }
   ],
   "source": [
    "(1, 2, ('aa', 'ab'))   < (1, 2, ('abc', 'a'), 4)"
   ]
  },
  {
   "cell_type": "code",
   "execution_count": null,
   "id": "6b3e1fa5-1b10-4fb8-9b97-27f1cce820de",
   "metadata": {},
   "outputs": [],
   "source": []
  }
 ],
 "metadata": {
  "kernelspec": {
   "display_name": "Python 3 (ipykernel)",
   "language": "python",
   "name": "python3"
  },
  "language_info": {
   "codemirror_mode": {
    "name": "ipython",
    "version": 3
   },
   "file_extension": ".py",
   "mimetype": "text/x-python",
   "name": "python",
   "nbconvert_exporter": "python",
   "pygments_lexer": "ipython3",
   "version": "3.11.4"
  }
 },
 "nbformat": 4,
 "nbformat_minor": 5
}
