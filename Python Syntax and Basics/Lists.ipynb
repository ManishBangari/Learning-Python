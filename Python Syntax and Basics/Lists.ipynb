{
 "cells": [
  {
   "cell_type": "markdown",
   "id": "c421ea72",
   "metadata": {},
   "source": [
    "## Lists in Python \n",
    "Lists in Python represent ordered sequences of values."
   ]
  },
  {
   "cell_type": "code",
   "execution_count": 10,
   "id": "cf18666e",
   "metadata": {},
   "outputs": [
    {
     "data": {
      "text/plain": [
       "[1, 2, 3, 4, 5]"
      ]
     },
     "execution_count": 10,
     "metadata": {},
     "output_type": "execute_result"
    }
   ],
   "source": [
    "positive = [1,2,3,4,5]  # list of numbers \n",
    "positive"
   ]
  },
  {
   "cell_type": "code",
   "execution_count": 2,
   "id": "ec4340c7",
   "metadata": {},
   "outputs": [
    {
     "data": {
      "text/plain": [
       "['apple', 'mango', 'banana', 'grapes', 'peach', 'papaya']"
      ]
     },
     "execution_count": 2,
     "metadata": {},
     "output_type": "execute_result"
    }
   ],
   "source": [
    "fruits = ['apple', 'mango', 'banana', 'grapes', 'peach', 'papaya']  # list of strings \n",
    "fruits"
   ]
  },
  {
   "cell_type": "code",
   "execution_count": 4,
   "id": "e1213943",
   "metadata": {},
   "outputs": [
    {
     "data": {
      "text/plain": [
       "[['1', 0, 8.4], ['T', 7, 3.65], ['R', 4, 8.12]]"
      ]
     },
     "execution_count": 4,
     "metadata": {},
     "output_type": "execute_result"
    }
   ],
   "source": [
    "# list of lists\n",
    "\n",
    "something = [\n",
    "    ['1',0,8.4],\n",
    "    ['T',7,3.65],\n",
    "    ['R',4,8.12],\n",
    "]\n",
    "\n",
    "something\n",
    "\n",
    "# A list can contain a mix of different types of variables"
   ]
  },
  {
   "cell_type": "code",
   "execution_count": 11,
   "id": "fd92112e",
   "metadata": {},
   "outputs": [
    {
     "data": {
      "text/plain": [
       "'apple'"
      ]
     },
     "execution_count": 11,
     "metadata": {},
     "output_type": "execute_result"
    }
   ],
   "source": [
    "fruits[0]"
   ]
  },
  {
   "cell_type": "code",
   "execution_count": 6,
   "id": "9fc0836a",
   "metadata": {},
   "outputs": [
    {
     "data": {
      "text/plain": [
       "'banana'"
      ]
     },
     "execution_count": 6,
     "metadata": {},
     "output_type": "execute_result"
    }
   ],
   "source": [
    "fruits[2]"
   ]
  },
  {
   "cell_type": "code",
   "execution_count": 13,
   "id": "6b7d72fe",
   "metadata": {},
   "outputs": [
    {
     "data": {
      "text/plain": [
       "'papaya'"
      ]
     },
     "execution_count": 13,
     "metadata": {},
     "output_type": "execute_result"
    }
   ],
   "source": [
    "fruits[-1]"
   ]
  },
  {
   "cell_type": "markdown",
   "id": "4911ea88",
   "metadata": {},
   "source": [
    "## Slicing"
   ]
  },
  {
   "cell_type": "code",
   "execution_count": 14,
   "id": "0f4a6cf8",
   "metadata": {},
   "outputs": [
    {
     "data": {
      "text/plain": [
       "['apple', 'mango', 'banana', 'grapes']"
      ]
     },
     "execution_count": 14,
     "metadata": {},
     "output_type": "execute_result"
    }
   ],
   "source": [
    "fruits[0:4]"
   ]
  },
  {
   "cell_type": "code",
   "execution_count": 15,
   "id": "dc02dbb4",
   "metadata": {},
   "outputs": [
    {
     "data": {
      "text/plain": [
       "['apple', 'mango', 'banana', 'grapes']"
      ]
     },
     "execution_count": 15,
     "metadata": {},
     "output_type": "execute_result"
    }
   ],
   "source": [
    "fruits[:4]"
   ]
  },
  {
   "cell_type": "code",
   "execution_count": 16,
   "id": "93febc43",
   "metadata": {},
   "outputs": [
    {
     "data": {
      "text/plain": [
       "['peach', 'papaya']"
      ]
     },
     "execution_count": 16,
     "metadata": {},
     "output_type": "execute_result"
    }
   ],
   "source": [
    "fruits[4:]"
   ]
  },
  {
   "cell_type": "code",
   "execution_count": 24,
   "id": "cd2bdb58",
   "metadata": {},
   "outputs": [
    {
     "data": {
      "text/plain": [
       "['mango', 'banana', 'grapes', 'peach']"
      ]
     },
     "execution_count": 24,
     "metadata": {},
     "output_type": "execute_result"
    }
   ],
   "source": [
    "fruits[1:-1]"
   ]
  },
  {
   "cell_type": "code",
   "execution_count": 26,
   "id": "56c0d835",
   "metadata": {},
   "outputs": [
    {
     "data": {
      "text/plain": [
       "['grapes', 'peach', 'papaya']"
      ]
     },
     "execution_count": 26,
     "metadata": {},
     "output_type": "execute_result"
    }
   ],
   "source": [
    "fruits[-3:]"
   ]
  },
  {
   "cell_type": "code",
   "execution_count": null,
   "id": "ad7896ca",
   "metadata": {},
   "outputs": [],
   "source": [
    "# Lists are \"mutable\", meaning they can be modified \"in place\"."
   ]
  },
  {
   "cell_type": "code",
   "execution_count": 4,
   "id": "5b190fb2",
   "metadata": {},
   "outputs": [
    {
     "data": {
      "text/plain": [
       "['apple', 'mango', 'watermelon', 'grapes', 'peach', 'papaya']"
      ]
     },
     "execution_count": 4,
     "metadata": {},
     "output_type": "execute_result"
    }
   ],
   "source": [
    "fruits[2]='watermelon'\n",
    "fruits"
   ]
  },
  {
   "cell_type": "code",
   "execution_count": 5,
   "id": "65531358",
   "metadata": {},
   "outputs": [
    {
     "data": {
      "text/plain": [
       "['App', 'Man', 'Water', 'grapes', 'peach', 'papaya']"
      ]
     },
     "execution_count": 5,
     "metadata": {},
     "output_type": "execute_result"
    }
   ],
   "source": [
    "fruits[:3] = ['App', 'Man', 'Water']\n",
    "fruits"
   ]
  },
  {
   "cell_type": "code",
   "execution_count": 7,
   "id": "2cf8ab33",
   "metadata": {},
   "outputs": [
    {
     "data": {
      "text/plain": [
       "['apple', 'mango', 'watermelon', 'grapes', 'peach', 'papaya']"
      ]
     },
     "execution_count": 7,
     "metadata": {},
     "output_type": "execute_result"
    }
   ],
   "source": [
    "fruits[:3] = ['apple', 'mango', 'watermelon']\n",
    "fruits"
   ]
  },
  {
   "cell_type": "markdown",
   "id": "922e7da0",
   "metadata": {},
   "source": [
    "## List Functions"
   ]
  },
  {
   "cell_type": "code",
   "execution_count": 8,
   "id": "95f44911",
   "metadata": {},
   "outputs": [
    {
     "data": {
      "text/plain": [
       "6"
      ]
     },
     "execution_count": 8,
     "metadata": {},
     "output_type": "execute_result"
    }
   ],
   "source": [
    "len(fruits)"
   ]
  },
  {
   "cell_type": "code",
   "execution_count": 9,
   "id": "b16ac491",
   "metadata": {},
   "outputs": [
    {
     "data": {
      "text/plain": [
       "['apple', 'grapes', 'mango', 'papaya', 'peach', 'watermelon']"
      ]
     },
     "execution_count": 9,
     "metadata": {},
     "output_type": "execute_result"
    }
   ],
   "source": [
    "sorted(fruits)"
   ]
  },
  {
   "cell_type": "code",
   "execution_count": 12,
   "id": "616ac61a",
   "metadata": {},
   "outputs": [
    {
     "name": "stdout",
     "output_type": "stream",
     "text": [
      "15\n"
     ]
    }
   ],
   "source": [
    "sum(positive)"
   ]
  },
  {
   "cell_type": "code",
   "execution_count": 13,
   "id": "ffb2cc28",
   "metadata": {},
   "outputs": [
    {
     "data": {
      "text/plain": [
       "5"
      ]
     },
     "execution_count": 13,
     "metadata": {},
     "output_type": "execute_result"
    }
   ],
   "source": [
    "max(positive)"
   ]
  },
  {
   "cell_type": "code",
   "execution_count": 14,
   "id": "1e867391",
   "metadata": {},
   "outputs": [
    {
     "data": {
      "text/plain": [
       "1"
      ]
     },
     "execution_count": 14,
     "metadata": {},
     "output_type": "execute_result"
    }
   ],
   "source": [
    "min(positive)"
   ]
  },
  {
   "cell_type": "markdown",
   "id": "d7865925",
   "metadata": {},
   "source": [
    "## Objects"
   ]
  },
  {
   "cell_type": "code",
   "execution_count": 20,
   "id": "3049ba73",
   "metadata": {},
   "outputs": [
    {
     "name": "stdout",
     "output_type": "stream",
     "text": [
      "4 0\n",
      "6.0 7.0\n"
     ]
    }
   ],
   "source": [
    "x=4\n",
    "print(x.real, x.imag)\n",
    "\n",
    "y=6+7j\n",
    "print(y.real, y.imag)"
   ]
  },
  {
   "cell_type": "code",
   "execution_count": 27,
   "id": "d15dc9f2",
   "metadata": {},
   "outputs": [
    {
     "name": "stdout",
     "output_type": "stream",
     "text": [
      "Help on built-in function bit_length:\n",
      "\n",
      "bit_length() method of builtins.int instance\n",
      "    Number of bits necessary to represent self in binary.\n",
      "    \n",
      "    >>> bin(37)\n",
      "    '0b100101'\n",
      "    >>> (37).bit_length()\n",
      "    6\n",
      "\n"
     ]
    }
   ],
   "source": [
    "x.bit_length()\n",
    "help(x.bit_length)"
   ]
  },
  {
   "cell_type": "markdown",
   "id": "5d556496",
   "metadata": {},
   "source": [
    "## List Methods"
   ]
  },
  {
   "cell_type": "code",
   "execution_count": 28,
   "id": "86b62a1e",
   "metadata": {},
   "outputs": [],
   "source": [
    "fruits.append('tomato')"
   ]
  },
  {
   "cell_type": "code",
   "execution_count": 29,
   "id": "e45a7023",
   "metadata": {},
   "outputs": [
    {
     "data": {
      "text/plain": [
       "['apple', 'mango', 'watermelon', 'grapes', 'peach', 'papaya', 'tomato']"
      ]
     },
     "execution_count": 29,
     "metadata": {},
     "output_type": "execute_result"
    }
   ],
   "source": [
    "fruits"
   ]
  },
  {
   "cell_type": "code",
   "execution_count": 30,
   "id": "2272f2f2",
   "metadata": {},
   "outputs": [
    {
     "data": {
      "text/plain": [
       "['apple', 'mango', 'watermelon', 'grapes', 'peach', 'papaya']"
      ]
     },
     "execution_count": 30,
     "metadata": {},
     "output_type": "execute_result"
    }
   ],
   "source": [
    "fruits.pop()\n",
    "fruits"
   ]
  },
  {
   "cell_type": "code",
   "execution_count": 31,
   "id": "b993c5ba",
   "metadata": {},
   "outputs": [
    {
     "data": {
      "text/plain": [
       "1"
      ]
     },
     "execution_count": 31,
     "metadata": {},
     "output_type": "execute_result"
    }
   ],
   "source": [
    "fruits.index('mango')"
   ]
  },
  {
   "cell_type": "code",
   "execution_count": 32,
   "id": "34effa3f",
   "metadata": {},
   "outputs": [
    {
     "data": {
      "text/plain": [
       "True"
      ]
     },
     "execution_count": 32,
     "metadata": {},
     "output_type": "execute_result"
    }
   ],
   "source": [
    "\"grapes\" in fruits"
   ]
  },
  {
   "cell_type": "code",
   "execution_count": 33,
   "id": "392c08c6",
   "metadata": {},
   "outputs": [
    {
     "data": {
      "text/plain": [
       "False"
      ]
     },
     "execution_count": 33,
     "metadata": {},
     "output_type": "execute_result"
    }
   ],
   "source": [
    "\"sugarcane\" in fruits "
   ]
  },
  {
   "cell_type": "code",
   "execution_count": 3,
   "id": "fb103d64-fe55-48f1-9cb8-f076aacb9161",
   "metadata": {},
   "outputs": [
    {
     "data": {
      "text/plain": [
       "1"
      ]
     },
     "execution_count": 3,
     "metadata": {},
     "output_type": "execute_result"
    }
   ],
   "source": [
    "fruits.count('peach')"
   ]
  },
  {
   "cell_type": "code",
   "execution_count": 4,
   "id": "7b66bc9a-dd3f-4274-bd0d-1d0b6730f5b1",
   "metadata": {},
   "outputs": [
    {
     "data": {
      "text/plain": [
       "3"
      ]
     },
     "execution_count": 4,
     "metadata": {},
     "output_type": "execute_result"
    }
   ],
   "source": [
    "fruits.index('grapes')"
   ]
  },
  {
   "cell_type": "code",
   "execution_count": 17,
   "id": "d9759f6c-2c68-45d2-9343-e7303a3e3a7c",
   "metadata": {},
   "outputs": [
    {
     "data": {
      "text/plain": [
       "['papaya', 'peach', 'grapes', 'banana', 'mango', 'apple']"
      ]
     },
     "execution_count": 17,
     "metadata": {},
     "output_type": "execute_result"
    }
   ],
   "source": [
    "fruits.reverse()\n",
    "fruits"
   ]
  },
  {
   "cell_type": "markdown",
   "id": "0cc32ae1",
   "metadata": {},
   "source": [
    "## Tuples"
   ]
  },
  {
   "cell_type": "code",
   "execution_count": 9,
   "id": "b97a81c9",
   "metadata": {},
   "outputs": [],
   "source": [
    "# Syntax\n",
    "t = (2,5,8)"
   ]
  },
  {
   "cell_type": "code",
   "execution_count": 10,
   "id": "14ff399b",
   "metadata": {},
   "outputs": [
    {
     "data": {
      "text/plain": [
       "(4, 6, 7)"
      ]
     },
     "execution_count": 10,
     "metadata": {},
     "output_type": "execute_result"
    }
   ],
   "source": [
    "t = 4,6,7\n",
    "t"
   ]
  },
  {
   "cell_type": "code",
   "execution_count": 11,
   "id": "bf935e7a",
   "metadata": {},
   "outputs": [
    {
     "ename": "TypeError",
     "evalue": "'tuple' object does not support item assignment",
     "output_type": "error",
     "traceback": [
      "\u001b[0;31m---------------------------------------------------------------------------\u001b[0m",
      "\u001b[0;31mTypeError\u001b[0m                                 Traceback (most recent call last)",
      "Cell \u001b[0;32mIn[11], line 2\u001b[0m\n\u001b[1;32m      1\u001b[0m \u001b[38;5;66;03m# Tuples are immutable\u001b[39;00m\n\u001b[0;32m----> 2\u001b[0m \u001b[43mt\u001b[49m\u001b[43m[\u001b[49m\u001b[38;5;241;43m2\u001b[39;49m\u001b[43m]\u001b[49m \u001b[38;5;241m=\u001b[39m \u001b[38;5;241m6\u001b[39m\n",
      "\u001b[0;31mTypeError\u001b[0m: 'tuple' object does not support item assignment"
     ]
    }
   ],
   "source": [
    "# Tuples are immutable\n",
    "t[2] = 6"
   ]
  },
  {
   "cell_type": "code",
   "execution_count": 39,
   "id": "4d765f11",
   "metadata": {},
   "outputs": [
    {
     "data": {
      "text/plain": [
       "(1, 8)"
      ]
     },
     "execution_count": 39,
     "metadata": {},
     "output_type": "execute_result"
    }
   ],
   "source": [
    "x = 0.125\n",
    "x.as_integer_ratio()"
   ]
  },
  {
   "cell_type": "code",
   "execution_count": 40,
   "id": "42bd8724",
   "metadata": {},
   "outputs": [
    {
     "name": "stdout",
     "output_type": "stream",
     "text": [
      "0.125\n"
     ]
    }
   ],
   "source": [
    "numerator, denominator = x.as_integer_ratio()\n",
    "print(numerator / denominator)"
   ]
  },
  {
   "cell_type": "code",
   "execution_count": 41,
   "id": "96a2367a",
   "metadata": {},
   "outputs": [
    {
     "name": "stdout",
     "output_type": "stream",
     "text": [
      "4 3\n"
     ]
    }
   ],
   "source": [
    "# swapping of values of a and b\n",
    "\n",
    "a=3\n",
    "b=4\n",
    "a,b = b,a\n",
    "print(a,b)"
   ]
  },
  {
   "cell_type": "code",
   "execution_count": 44,
   "id": "485ffa6f-1579-47ba-bab4-34b076d833a9",
   "metadata": {},
   "outputs": [],
   "source": [
    "t = 12345, 54321, 'hello!'"
   ]
  },
  {
   "cell_type": "code",
   "execution_count": 48,
   "id": "82442b1f-e233-4d40-9aa3-c1f59c76d642",
   "metadata": {},
   "outputs": [
    {
     "name": "stdout",
     "output_type": "stream",
     "text": [
      "12345 54321 hello!\n"
     ]
    }
   ],
   "source": [
    "x,y,z = t\n",
    "print(x,y,z)"
   ]
  },
  {
   "cell_type": "code",
   "execution_count": 49,
   "id": "7e241eff-6e79-4b33-bcec-3121d6a381ef",
   "metadata": {},
   "outputs": [
    {
     "ename": "ValueError",
     "evalue": "too many values to unpack (expected 2)",
     "output_type": "error",
     "traceback": [
      "\u001b[0;31m---------------------------------------------------------------------------\u001b[0m",
      "\u001b[0;31mValueError\u001b[0m                                Traceback (most recent call last)",
      "Cell \u001b[0;32mIn[49], line 1\u001b[0m\n\u001b[0;32m----> 1\u001b[0m x,y \u001b[38;5;241m=\u001b[39m t\n\u001b[1;32m      2\u001b[0m \u001b[38;5;28mprint\u001b[39m(x,y)\n",
      "\u001b[0;31mValueError\u001b[0m: too many values to unpack (expected 2)"
     ]
    }
   ],
   "source": [
    "x,y = t\n",
    "print(x,y)"
   ]
  },
  {
   "cell_type": "markdown",
   "id": "64b6b2ca-05d9-4e06-b85a-332cde779698",
   "metadata": {},
   "source": [
    "## Using Lists as Stacks"
   ]
  },
  {
   "cell_type": "code",
   "execution_count": 18,
   "id": "a20576f4-2a6b-4602-abe7-3fb94d8a8b8e",
   "metadata": {},
   "outputs": [
    {
     "data": {
      "text/plain": [
       "[5, 7, 8, 9]"
      ]
     },
     "execution_count": 18,
     "metadata": {},
     "output_type": "execute_result"
    }
   ],
   "source": [
    "stack = [5,7,8,9]\n",
    "stack"
   ]
  },
  {
   "cell_type": "code",
   "execution_count": 20,
   "id": "2b2bceb8-a73d-42fb-9dfd-58689132fd06",
   "metadata": {},
   "outputs": [
    {
     "data": {
      "text/plain": [
       "[5, 7, 8, 9, 2, 2]"
      ]
     },
     "execution_count": 20,
     "metadata": {},
     "output_type": "execute_result"
    }
   ],
   "source": [
    "stack.append(2)\n",
    "stack"
   ]
  },
  {
   "cell_type": "code",
   "execution_count": 21,
   "id": "63ed93ec-9f21-4742-87ab-c12dbac60ad5",
   "metadata": {},
   "outputs": [
    {
     "data": {
      "text/plain": [
       "2"
      ]
     },
     "execution_count": 21,
     "metadata": {},
     "output_type": "execute_result"
    }
   ],
   "source": [
    "stack.pop()"
   ]
  },
  {
   "cell_type": "code",
   "execution_count": 22,
   "id": "cd2e9740-623f-4dd4-a7cc-849b7c71976d",
   "metadata": {},
   "outputs": [
    {
     "data": {
      "text/plain": [
       "2"
      ]
     },
     "execution_count": 22,
     "metadata": {},
     "output_type": "execute_result"
    }
   ],
   "source": [
    "stack.pop()"
   ]
  },
  {
   "cell_type": "code",
   "execution_count": 23,
   "id": "9bda40f4-fe06-47ab-afb7-0fa08c93c32b",
   "metadata": {},
   "outputs": [
    {
     "data": {
      "text/plain": [
       "[5, 7, 8, 9]"
      ]
     },
     "execution_count": 23,
     "metadata": {},
     "output_type": "execute_result"
    }
   ],
   "source": [
    "stack[:]"
   ]
  },
  {
   "cell_type": "code",
   "execution_count": 24,
   "id": "228d6fbf-20a4-497a-9f17-38591c675215",
   "metadata": {},
   "outputs": [
    {
     "data": {
      "text/plain": [
       "[7, 8]"
      ]
     },
     "execution_count": 24,
     "metadata": {},
     "output_type": "execute_result"
    }
   ],
   "source": [
    "stack[1:3]"
   ]
  },
  {
   "cell_type": "markdown",
   "id": "6d21809a-e91a-44b3-a63c-2061b1dc124c",
   "metadata": {},
   "source": [
    "##  Using Lists as Queues"
   ]
  },
  {
   "cell_type": "code",
   "execution_count": 25,
   "id": "7ec4a942-583f-490f-a6b5-f0726dfa94a7",
   "metadata": {},
   "outputs": [],
   "source": [
    "from collections import deque"
   ]
  },
  {
   "cell_type": "code",
   "execution_count": 26,
   "id": "032f54f8-455d-4df2-ae57-40dc66fafa29",
   "metadata": {},
   "outputs": [
    {
     "data": {
      "text/plain": [
       "deque(['Another', 'Beautiful', 'Day'])"
      ]
     },
     "execution_count": 26,
     "metadata": {},
     "output_type": "execute_result"
    }
   ],
   "source": [
    "queue=deque([\"Another\", \"Beautiful\", \"Day\"])\n",
    "queue"
   ]
  },
  {
   "cell_type": "code",
   "execution_count": 27,
   "id": "a998d910-fb82-4956-9e34-b4b922ab596e",
   "metadata": {},
   "outputs": [],
   "source": [
    "queue.append(\"at\")\n",
    "queue.append(\"Dehradun\")"
   ]
  },
  {
   "cell_type": "code",
   "execution_count": 28,
   "id": "609b8ed0-c171-410b-9fb3-845fdf3501a8",
   "metadata": {},
   "outputs": [
    {
     "data": {
      "text/plain": [
       "deque(['Another', 'Beautiful', 'Day', 'at', 'Dehradun'])"
      ]
     },
     "execution_count": 28,
     "metadata": {},
     "output_type": "execute_result"
    }
   ],
   "source": [
    "queue"
   ]
  },
  {
   "cell_type": "code",
   "execution_count": 30,
   "id": "ef4acff1-e216-4dce-83fa-043c65256f2d",
   "metadata": {},
   "outputs": [
    {
     "data": {
      "text/plain": [
       "'Another'"
      ]
     },
     "execution_count": 30,
     "metadata": {},
     "output_type": "execute_result"
    }
   ],
   "source": [
    "queue.popleft()"
   ]
  },
  {
   "cell_type": "code",
   "execution_count": 32,
   "id": "425eb96f-8562-43e0-8846-d31297f6c6e3",
   "metadata": {},
   "outputs": [
    {
     "data": {
      "text/plain": [
       "'Dehradun'"
      ]
     },
     "execution_count": 32,
     "metadata": {},
     "output_type": "execute_result"
    }
   ],
   "source": [
    "queue.pop()"
   ]
  },
  {
   "cell_type": "code",
   "execution_count": 33,
   "id": "eadfe499-f6fb-43a6-902e-c5ed21409df9",
   "metadata": {},
   "outputs": [
    {
     "data": {
      "text/plain": [
       "deque(['Beautiful', 'Day', 'at'])"
      ]
     },
     "execution_count": 33,
     "metadata": {},
     "output_type": "execute_result"
    }
   ],
   "source": [
    "queue"
   ]
  },
  {
   "cell_type": "code",
   "execution_count": 34,
   "id": "e7cc9453-2bee-470c-af66-b708b81b9e07",
   "metadata": {},
   "outputs": [],
   "source": [
    "queue.extend(\"A\")"
   ]
  },
  {
   "cell_type": "code",
   "execution_count": 41,
   "id": "f3aab9c0-b637-4ddc-aaf6-0e112d7dbe79",
   "metadata": {},
   "outputs": [
    {
     "data": {
      "text/plain": [
       "'h'"
      ]
     },
     "execution_count": 41,
     "metadata": {},
     "output_type": "execute_result"
    }
   ],
   "source": [
    "queue.popleft()"
   ]
  },
  {
   "cell_type": "code",
   "execution_count": 43,
   "id": "360072a6-25ef-4211-a269-f721b768429e",
   "metadata": {},
   "outputs": [
    {
     "data": {
      "text/plain": [
       "deque(['t', 'a', 'n', 'r', 'a', 'd', 'e', 'K', 'Day', 'at'])"
      ]
     },
     "execution_count": 43,
     "metadata": {},
     "output_type": "execute_result"
    }
   ],
   "source": [
    "queue"
   ]
  },
  {
   "cell_type": "code",
   "execution_count": null,
   "id": "294eefa6-6483-481e-a706-82cc2d22114a",
   "metadata": {},
   "outputs": [],
   "source": []
  }
 ],
 "metadata": {
  "kernelspec": {
   "display_name": "Python 3 (ipykernel)",
   "language": "python",
   "name": "python3"
  },
  "language_info": {
   "codemirror_mode": {
    "name": "ipython",
    "version": 3
   },
   "file_extension": ".py",
   "mimetype": "text/x-python",
   "name": "python",
   "nbconvert_exporter": "python",
   "pygments_lexer": "ipython3",
   "version": "3.11.4"
  }
 },
 "nbformat": 4,
 "nbformat_minor": 5
}
