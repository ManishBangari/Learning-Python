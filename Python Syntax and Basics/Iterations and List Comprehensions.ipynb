{
 "cells": [
  {
   "cell_type": "markdown",
   "id": "2531ede8",
   "metadata": {},
   "source": [
    "## Loops"
   ]
  },
  {
   "cell_type": "code",
   "execution_count": 1,
   "id": "f246507e",
   "metadata": {},
   "outputs": [
    {
     "name": "stdout",
     "output_type": "stream",
     "text": [
      "A E I O U "
     ]
    }
   ],
   "source": [
    "vowels = ['A', 'E', 'I', 'O', 'U']\n",
    "for vowel in vowels:\n",
    "    print(vowel, end=' ')"
   ]
  },
  {
   "cell_type": "code",
   "execution_count": 8,
   "id": "4d273e06",
   "metadata": {},
   "outputs": [
    {
     "data": {
      "text/plain": [
       "(21, 720)"
      ]
     },
     "execution_count": 8,
     "metadata": {},
     "output_type": "execute_result"
    }
   ],
   "source": [
    "nums = [1,2,3,4,5,6]\n",
    "sum=0\n",
    "product=1\n",
    "\n",
    "for num in nums:\n",
    "    sum+=num\n",
    "    product*=num\n",
    "\n",
    "    \n",
    "sum, product \n"
   ]
  },
  {
   "cell_type": "code",
   "execution_count": 12,
   "id": "2b6144c6",
   "metadata": {},
   "outputs": [
    {
     "name": "stdout",
     "output_type": "stream",
     "text": [
      "YOU \n",
      "ARE \n",
      "UNSTOPPABLE"
     ]
    }
   ],
   "source": [
    "msg = 'YasOferUbgrt AafRdfbEfggef46 Ur34NergSdfbTOdfbPPwregergA434t6uBl.LrE76ue'\n",
    "for char in msg:\n",
    "    if char.isupper():\n",
    "        print(char, end = '')\n",
    "    if(char == ' '): \n",
    "        print(char)"
   ]
  },
  {
   "cell_type": "markdown",
   "id": "db6230bb",
   "metadata": {},
   "source": [
    "## Range"
   ]
  },
  {
   "cell_type": "code",
   "execution_count": 14,
   "id": "5ab0b153",
   "metadata": {},
   "outputs": [
    {
     "name": "stdout",
     "output_type": "stream",
     "text": [
      "Learning python : Day 1\n",
      "Learning python : Day 2\n",
      "Learning python : Day 3\n",
      "Learning python : Day 4\n",
      "Learning python : Day 5\n",
      "Learning python : Day 6\n"
     ]
    }
   ],
   "source": [
    "for i in range(6):\n",
    "    print(\"Learning python : Day\", i+1)"
   ]
  },
  {
   "cell_type": "markdown",
   "id": "716a1b65",
   "metadata": {},
   "source": [
    "## while "
   ]
  },
  {
   "cell_type": "code",
   "execution_count": 1,
   "id": "50899938",
   "metadata": {},
   "outputs": [
    {
     "name": "stdout",
     "output_type": "stream",
     "text": [
      "0 1 2 3 4 "
     ]
    }
   ],
   "source": [
    "j = 0\n",
    "while j < 5:\n",
    "    print(j, end=' ')\n",
    "    j += 1"
   ]
  },
  {
   "cell_type": "markdown",
   "id": "c8829e37",
   "metadata": {},
   "source": [
    "## List Comprehensions"
   ]
  },
  {
   "cell_type": "code",
   "execution_count": 2,
   "id": "510ef606",
   "metadata": {},
   "outputs": [
    {
     "data": {
      "text/plain": [
       "[0, 1, 4, 9, 16, 25, 36, 49, 64, 81]"
      ]
     },
     "execution_count": 2,
     "metadata": {},
     "output_type": "execute_result"
    }
   ],
   "source": [
    "squares = []\n",
    "for n in range(10):\n",
    "    squares.append(n**2)\n",
    "squares"
   ]
  },
  {
   "cell_type": "code",
   "execution_count": 2,
   "id": "1be8d58a-3988-4aee-9e5c-e12115d41a1f",
   "metadata": {},
   "outputs": [],
   "source": [
    "squares3 = list(map(lambda x: x**2, range(10)))"
   ]
  },
  {
   "cell_type": "code",
   "execution_count": 3,
   "id": "12bffe0a-a048-49cf-b8d4-7242aaa7df8a",
   "metadata": {},
   "outputs": [
    {
     "data": {
      "text/plain": [
       "[0, 1, 4, 9, 16, 25, 36, 49, 64, 81]"
      ]
     },
     "execution_count": 3,
     "metadata": {},
     "output_type": "execute_result"
    }
   ],
   "source": [
    "squares3"
   ]
  },
  {
   "cell_type": "code",
   "execution_count": 5,
   "id": "116edd9c",
   "metadata": {},
   "outputs": [
    {
     "data": {
      "text/plain": [
       "[0, 1, 4, 9, 16, 25, 36, 49, 64, 81]"
      ]
     },
     "execution_count": 5,
     "metadata": {},
     "output_type": "execute_result"
    }
   ],
   "source": [
    "squares2 = [n**2 for n in range(10)]\n",
    "squares2"
   ]
  },
  {
   "cell_type": "code",
   "execution_count": 8,
   "id": "4d902033",
   "metadata": {},
   "outputs": [
    {
     "data": {
      "text/plain": [
       "['apple', 'mango', 'peach']"
      ]
     },
     "execution_count": 8,
     "metadata": {},
     "output_type": "execute_result"
    }
   ],
   "source": [
    "fruits = ['apple', 'mango', 'banana', 'grapes', 'peach', 'papaya'] \n",
    "short_fruits = [fruit for fruit in fruits if len(fruit) < 6]\n",
    "short_fruits"
   ]
  },
  {
   "cell_type": "code",
   "execution_count": 9,
   "id": "dba10a19",
   "metadata": {},
   "outputs": [
    {
     "data": {
      "text/plain": [
       "['APPLE:)', 'MANGO:)', 'PEACH:)']"
      ]
     },
     "execution_count": 9,
     "metadata": {},
     "output_type": "execute_result"
    }
   ],
   "source": [
    "fruits_cap = [fruit.upper() + ':)' for fruit in fruits if len(fruit)<6]\n",
    "fruits_cap"
   ]
  },
  {
   "cell_type": "code",
   "execution_count": 10,
   "id": "afe943c3",
   "metadata": {},
   "outputs": [],
   "source": [
    "def count_negatives1(nums):\n",
    "    \"\"\"\n",
    "    Return the number of negative values in nums\n",
    "    \"\"\"\n",
    "    return len([num for num in nums if num < 0])"
   ]
  },
  {
   "cell_type": "code",
   "execution_count": 11,
   "id": "deff06cc",
   "metadata": {},
   "outputs": [
    {
     "data": {
      "text/plain": [
       "4"
      ]
     },
     "execution_count": 11,
     "metadata": {},
     "output_type": "execute_result"
    }
   ],
   "source": [
    "nums = [4,-1,-5,1,6,-8,-5,9]\n",
    "count_negatives1(nums)"
   ]
  },
  {
   "cell_type": "code",
   "execution_count": 13,
   "id": "e82dd3c2",
   "metadata": {},
   "outputs": [],
   "source": [
    "def count_negatives2(nums):\n",
    "    # Reminder: in the \"booleans and conditionals\" exercises, we learned about a quirk of \n",
    "    # Python where it calculates something like True + True + False + True to be equal to 3.\n",
    "    return sum([num < 0 for num in nums])"
   ]
  },
  {
   "cell_type": "code",
   "execution_count": 14,
   "id": "bbdeca0f",
   "metadata": {},
   "outputs": [
    {
     "data": {
      "text/plain": [
       "4"
      ]
     },
     "execution_count": 14,
     "metadata": {},
     "output_type": "execute_result"
    }
   ],
   "source": [
    "count_negatives2(nums)"
   ]
  },
  {
   "cell_type": "code",
   "execution_count": 15,
   "id": "ba7fe0a6",
   "metadata": {},
   "outputs": [
    {
     "name": "stdout",
     "output_type": "stream",
     "text": [
      "Help on built-in function any in module builtins:\n",
      "\n",
      "any(iterable, /)\n",
      "    Return True if bool(x) is True for any x in the iterable.\n",
      "    \n",
      "    If the iterable is empty, return False.\n",
      "\n"
     ]
    }
   ],
   "source": [
    "help(any)"
   ]
  },
  {
   "cell_type": "code",
   "execution_count": 4,
   "id": "deed2525",
   "metadata": {},
   "outputs": [
    {
     "data": {
      "text/plain": [
       "[(2, 4), (2, 6), (2, 8), (3, 4), (3, 6), (3, 8), (4, 6), (4, 8)]"
      ]
     },
     "execution_count": 4,
     "metadata": {},
     "output_type": "execute_result"
    }
   ],
   "source": [
    "[(x,y) for x in [2,3,4] for y in [4,6,8] if(x!=y)]"
   ]
  },
  {
   "cell_type": "code",
   "execution_count": 7,
   "id": "5c2a90e7-2efe-469d-bc95-3a4e6bd8dcff",
   "metadata": {},
   "outputs": [
    {
     "data": {
      "text/plain": [
       "[(2, 4), (2, 6), (2, 8), (3, 4), (3, 6), (3, 8), (4, 6), (4, 8)]"
      ]
     },
     "execution_count": 7,
     "metadata": {},
     "output_type": "execute_result"
    }
   ],
   "source": [
    "list=[]\n",
    "for x in [2,3,4]:\n",
    "    for y in [4,6,8]:\n",
    "        if(x!=y):\n",
    "            list.append((x,y))\n",
    "\n",
    "list"
   ]
  },
  {
   "cell_type": "code",
   "execution_count": 8,
   "id": "d5c593c6-8e2f-49eb-a501-5a504bb00356",
   "metadata": {},
   "outputs": [],
   "source": [
    "vec=[-3,-6,1,5,-4,8]"
   ]
  },
  {
   "cell_type": "code",
   "execution_count": 10,
   "id": "fe591c7f-19fd-4ad5-9bb4-43af924c8022",
   "metadata": {},
   "outputs": [
    {
     "data": {
      "text/plain": [
       "[1, 5, 8]"
      ]
     },
     "execution_count": 10,
     "metadata": {},
     "output_type": "execute_result"
    }
   ],
   "source": [
    "[i for i in vec if(i>0)]"
   ]
  },
  {
   "cell_type": "code",
   "execution_count": 12,
   "id": "87bbec7a-1e0e-4edb-8d1e-6bf2e6cf91f3",
   "metadata": {},
   "outputs": [
    {
     "data": {
      "text/plain": [
       "[-9, -18, 3, 15, -12, 24]"
      ]
     },
     "execution_count": 12,
     "metadata": {},
     "output_type": "execute_result"
    }
   ],
   "source": [
    "[x*3 for x in vec]"
   ]
  },
  {
   "cell_type": "code",
   "execution_count": 13,
   "id": "0f906d54-c4fa-4275-a69f-927e89f2c064",
   "metadata": {},
   "outputs": [
    {
     "data": {
      "text/plain": [
       "[-3, -6, 1, 5, -4, 8]"
      ]
     },
     "execution_count": 13,
     "metadata": {},
     "output_type": "execute_result"
    }
   ],
   "source": [
    "vec"
   ]
  },
  {
   "cell_type": "code",
   "execution_count": 14,
   "id": "5905874c-e8f3-4350-b695-a680491b2faf",
   "metadata": {},
   "outputs": [
    {
     "data": {
      "text/plain": [
       "[3, 6, 1, 5, 4, 8]"
      ]
     },
     "execution_count": 14,
     "metadata": {},
     "output_type": "execute_result"
    }
   ],
   "source": [
    "[abs(x) for x in vec]"
   ]
  },
  {
   "cell_type": "code",
   "execution_count": 16,
   "id": "dfff8701-1dde-41b5-b3a2-0e6beb46978a",
   "metadata": {},
   "outputs": [
    {
     "data": {
      "text/plain": [
       "['this', 'is', 'something', 'crazy']"
      ]
     },
     "execution_count": 16,
     "metadata": {},
     "output_type": "execute_result"
    }
   ],
   "source": [
    "elements=[\" this      \", \"    is    \", \"   something   \",  \" crazy\"]\n",
    "[something.strip() for something in elements]"
   ]
  },
  {
   "cell_type": "code",
   "execution_count": 17,
   "id": "d3057cfb-3adc-4870-aced-c97777229e4e",
   "metadata": {},
   "outputs": [
    {
     "data": {
      "text/plain": [
       "[(2, 4), (4, 16), (7, 49), (-2, 4)]"
      ]
     },
     "execution_count": 17,
     "metadata": {},
     "output_type": "execute_result"
    }
   ],
   "source": [
    "[(x, x**2) for x in [2,4,7,-2]]"
   ]
  },
  {
   "cell_type": "code",
   "execution_count": 22,
   "id": "e88b0eca-d309-40b1-a55f-9803a681f4d9",
   "metadata": {},
   "outputs": [
    {
     "data": {
      "text/plain": [
       "[1, 4, 5, 2, 5, 6, 8, 9, 3]"
      ]
     },
     "execution_count": 22,
     "metadata": {},
     "output_type": "execute_result"
    }
   ],
   "source": [
    "vec2d=[[1,4,5],[2,5,6],[8,9,3]]\n",
    "[e for vec in vec2d for e in vec]"
   ]
  },
  {
   "cell_type": "code",
   "execution_count": 23,
   "id": "15963597-9492-4a20-8172-5f6839104fd3",
   "metadata": {},
   "outputs": [
    {
     "data": {
      "text/plain": [
       "[[1, 4, 5], [2, 5, 6], [8, 9, 3]]"
      ]
     },
     "execution_count": 23,
     "metadata": {},
     "output_type": "execute_result"
    }
   ],
   "source": [
    "[vec for vec in vec2d]"
   ]
  },
  {
   "cell_type": "code",
   "execution_count": 21,
   "id": "9d21034e-ff07-4489-8c0b-89b0f4d17bee",
   "metadata": {},
   "outputs": [
    {
     "data": {
      "text/plain": [
       "[1, 2, 3, 4, 5, 6, 7, 8, 9]"
      ]
     },
     "execution_count": 21,
     "metadata": {},
     "output_type": "execute_result"
    }
   ],
   "source": [
    "vec = [[1,2,3], [4,5,6], [7,8,9]]\n",
    "[num for elem in vec for num in elem]"
   ]
  },
  {
   "cell_type": "code",
   "execution_count": 24,
   "id": "535b5fe4-ab4b-4b75-a9dd-d87bdfaa651f",
   "metadata": {},
   "outputs": [
    {
     "data": {
      "text/plain": [
       "['3.1', '3.14', '3.142', '3.1416', '3.14159']"
      ]
     },
     "execution_count": 24,
     "metadata": {},
     "output_type": "execute_result"
    }
   ],
   "source": [
    "from math import pi\n",
    "[str(round(pi, i)) for i in range(1, 6)]"
   ]
  },
  {
   "cell_type": "code",
   "execution_count": 25,
   "id": "82c8a1db-84eb-4609-9610-390ac7566663",
   "metadata": {},
   "outputs": [],
   "source": [
    "matrix = [\n",
    "    [1, 2, 3, 4],\n",
    "    [5, 6, 7, 8],\n",
    "    [9, 10, 11, 12],\n",
    "]"
   ]
  },
  {
   "cell_type": "code",
   "execution_count": 27,
   "id": "0d3e8640-f173-4676-b464-4e86eae187c4",
   "metadata": {},
   "outputs": [
    {
     "data": {
      "text/plain": [
       "[[1, 5, 9], [2, 6, 10], [3, 7, 11], [4, 8, 12]]"
      ]
     },
     "execution_count": 27,
     "metadata": {},
     "output_type": "execute_result"
    }
   ],
   "source": [
    "[[row[i] for row in matrix]for i in range(4)]"
   ]
  },
  {
   "cell_type": "code",
   "execution_count": 28,
   "id": "983e8688-b3fa-447c-8ad4-9266af977b06",
   "metadata": {},
   "outputs": [],
   "source": [
    "transposed = []\n",
    "for i in range(4):\n",
    "    transposed.append([row[i] for row in matrix])"
   ]
  },
  {
   "cell_type": "code",
   "execution_count": 29,
   "id": "9fe2575f-b4ee-4a3d-90f8-21d6a17f8631",
   "metadata": {},
   "outputs": [
    {
     "data": {
      "text/plain": [
       "[[1, 5, 9], [2, 6, 10], [3, 7, 11], [4, 8, 12]]"
      ]
     },
     "execution_count": 29,
     "metadata": {},
     "output_type": "execute_result"
    }
   ],
   "source": [
    "transposed"
   ]
  },
  {
   "cell_type": "code",
   "execution_count": 30,
   "id": "2e5b6413-4625-4764-942b-18f5866daab4",
   "metadata": {},
   "outputs": [
    {
     "ename": "TypeError",
     "evalue": "'list' object is not callable",
     "output_type": "error",
     "traceback": [
      "\u001b[0;31m---------------------------------------------------------------------------\u001b[0m",
      "\u001b[0;31mTypeError\u001b[0m                                 Traceback (most recent call last)",
      "Cell \u001b[0;32mIn[30], line 1\u001b[0m\n\u001b[0;32m----> 1\u001b[0m \u001b[38;5;28;43mlist\u001b[39;49m\u001b[43m(\u001b[49m\u001b[38;5;28;43mzip\u001b[39;49m\u001b[43m(\u001b[49m\u001b[38;5;241;43m*\u001b[39;49m\u001b[43mmatrix\u001b[49m\u001b[43m)\u001b[49m\u001b[43m)\u001b[49m\n",
      "\u001b[0;31mTypeError\u001b[0m: 'list' object is not callable"
     ]
    }
   ],
   "source": [
    "list(zip(*matrix))"
   ]
  },
  {
   "cell_type": "code",
   "execution_count": 32,
   "id": "f47538ad-a033-44a1-9acd-1e6071008613",
   "metadata": {},
   "outputs": [
    {
     "data": {
      "text/plain": [
       "[2, 1445, 45.23, 2342.12, -12334]"
      ]
     },
     "execution_count": 32,
     "metadata": {},
     "output_type": "execute_result"
    }
   ],
   "source": [
    "c=[2,1445,45.23,2342.12,-12334]\n",
    "c"
   ]
  },
  {
   "cell_type": "code",
   "execution_count": 35,
   "id": "c5a33e5e-abd6-4c94-a031-d5d97c32aaa2",
   "metadata": {},
   "outputs": [
    {
     "data": {
      "text/plain": [
       "[45.23, 2342.12, -12334]"
      ]
     },
     "execution_count": 35,
     "metadata": {},
     "output_type": "execute_result"
    }
   ],
   "source": [
    "del c[0]\n",
    "c"
   ]
  },
  {
   "cell_type": "code",
   "execution_count": 36,
   "id": "0cb27d27-bb8d-41f6-bb25-2cdfa934cb1b",
   "metadata": {},
   "outputs": [
    {
     "data": {
      "text/plain": [
       "[45.23]"
      ]
     },
     "execution_count": 36,
     "metadata": {},
     "output_type": "execute_result"
    }
   ],
   "source": [
    "del c[1:3]\n",
    "c"
   ]
  },
  {
   "cell_type": "code",
   "execution_count": 37,
   "id": "0e666c5e-1cf7-4087-bf06-50dfac1aac12",
   "metadata": {},
   "outputs": [
    {
     "data": {
      "text/plain": [
       "[]"
      ]
     },
     "execution_count": 37,
     "metadata": {},
     "output_type": "execute_result"
    }
   ],
   "source": [
    "del c[:]\n",
    "c"
   ]
  },
  {
   "cell_type": "code",
   "execution_count": null,
   "id": "a7d7fd8e-f2ff-4fa7-80c4-54a527e24af1",
   "metadata": {},
   "outputs": [],
   "source": []
  }
 ],
 "metadata": {
  "kernelspec": {
   "display_name": "Python 3 (ipykernel)",
   "language": "python",
   "name": "python3"
  },
  "language_info": {
   "codemirror_mode": {
    "name": "ipython",
    "version": 3
   },
   "file_extension": ".py",
   "mimetype": "text/x-python",
   "name": "python",
   "nbconvert_exporter": "python",
   "pygments_lexer": "ipython3",
   "version": "3.11.4"
  }
 },
 "nbformat": 4,
 "nbformat_minor": 5
}
