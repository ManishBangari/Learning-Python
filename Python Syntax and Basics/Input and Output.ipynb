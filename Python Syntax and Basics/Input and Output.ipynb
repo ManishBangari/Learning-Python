{
 "cells": [
  {
   "cell_type": "markdown",
   "id": "d28f0577-ef3e-4597-b4ce-80255de321bd",
   "metadata": {},
   "source": [
    "## Fancier Output Formatting"
   ]
  },
  {
   "cell_type": "code",
   "execution_count": 1,
   "id": "fb3f677e-ba4a-491b-b2fd-0969caf93979",
   "metadata": {},
   "outputs": [
    {
     "data": {
      "text/plain": [
       "'Manish Singh is 22 years old.'"
      ]
     },
     "execution_count": 1,
     "metadata": {},
     "output_type": "execute_result"
    }
   ],
   "source": [
    "name = 'Manish Singh'\n",
    "age = '22'\n",
    "\n",
    "f'{name} is {age} years old.'"
   ]
  },
  {
   "cell_type": "code",
   "execution_count": 2,
   "id": "373a5b74-8e9b-47c8-a384-4c1e5de221ba",
   "metadata": {},
   "outputs": [
    {
     "data": {
      "text/plain": [
       "'Manish Singh is 22 years old.'"
      ]
     },
     "execution_count": 2,
     "metadata": {},
     "output_type": "execute_result"
    }
   ],
   "source": [
    "F'{name} is {age} years old.'"
   ]
  },
  {
   "cell_type": "code",
   "execution_count": 11,
   "id": "a6701013-a739-4549-8efe-11a476bae862",
   "metadata": {},
   "outputs": [
    {
     "data": {
      "text/plain": [
       "'    42572654 YES votes  49.6734%'"
      ]
     },
     "execution_count": 11,
     "metadata": {},
     "output_type": "execute_result"
    }
   ],
   "source": [
    "yes_votes = 42_572_654\n",
    "no_votes = 43_132_495\n",
    "\n",
    "percentage = yes_votes / (yes_votes + no_votes)\n",
    "'{:-12} YES votes  {:2.4%}'.format(yes_votes, percentage)"
   ]
  },
  {
   "cell_type": "code",
   "execution_count": 12,
   "id": "eef2b727-b925-41a0-8d17-49568650fceb",
   "metadata": {},
   "outputs": [
    {
     "data": {
      "text/plain": [
       "'42572654 YES votes  49.67%'"
      ]
     },
     "execution_count": 12,
     "metadata": {},
     "output_type": "execute_result"
    }
   ],
   "source": [
    "'{:-6} YES votes  {:2.2%}'.format(yes_votes, percentage)"
   ]
  },
  {
   "cell_type": "code",
   "execution_count": 13,
   "id": "0a0861fb-a10f-4162-b30e-d3a3c6ff9a83",
   "metadata": {},
   "outputs": [
    {
     "data": {
      "text/plain": [
       "'42572654 YES votes  49.67%'"
      ]
     },
     "execution_count": 13,
     "metadata": {},
     "output_type": "execute_result"
    }
   ],
   "source": [
    "'{:-6} YES votes  {:3.2%}'.format(yes_votes, percentage)"
   ]
  },
  {
   "cell_type": "code",
   "execution_count": 14,
   "id": "11804c63-7ec3-496c-b2af-6cacbc91d438",
   "metadata": {},
   "outputs": [
    {
     "data": {
      "text/plain": [
       "'Hello there'"
      ]
     },
     "execution_count": 14,
     "metadata": {},
     "output_type": "execute_result"
    }
   ],
   "source": [
    "s = 'Hello there'\n",
    "str(s)"
   ]
  },
  {
   "cell_type": "code",
   "execution_count": 15,
   "id": "ffb5f7e7-f9b4-4c33-9903-db3ef49f34af",
   "metadata": {},
   "outputs": [
    {
     "data": {
      "text/plain": [
       "\"'Hello there'\""
      ]
     },
     "execution_count": 15,
     "metadata": {},
     "output_type": "execute_result"
    }
   ],
   "source": [
    "repr(s)"
   ]
  },
  {
   "cell_type": "code",
   "execution_count": 16,
   "id": "d0287e81-5048-4a6c-ab81-b2956e1031a9",
   "metadata": {},
   "outputs": [
    {
     "name": "stdout",
     "output_type": "stream",
     "text": [
      "Help on built-in function repr in module builtins:\n",
      "\n",
      "repr(obj, /)\n",
      "    Return the canonical string representation of the object.\n",
      "    \n",
      "    For many object types, including most builtins, eval(repr(obj)) == obj.\n",
      "\n"
     ]
    }
   ],
   "source": [
    "help(repr)"
   ]
  },
  {
   "cell_type": "code",
   "execution_count": 17,
   "id": "62b16f41-4708-4879-860e-df0536cf10f1",
   "metadata": {},
   "outputs": [
    {
     "data": {
      "text/plain": [
       "'0.1111111111111111'"
      ]
     },
     "execution_count": 17,
     "metadata": {},
     "output_type": "execute_result"
    }
   ],
   "source": [
    "str(1/9)"
   ]
  },
  {
   "cell_type": "code",
   "execution_count": 18,
   "id": "8bf4bb8c-64c4-4a96-a046-de24f0bce8bf",
   "metadata": {},
   "outputs": [
    {
     "data": {
      "text/plain": [
       "'1/6'"
      ]
     },
     "execution_count": 18,
     "metadata": {},
     "output_type": "execute_result"
    }
   ],
   "source": [
    "str('1/6')"
   ]
  },
  {
   "cell_type": "code",
   "execution_count": 19,
   "id": "d97e73fe-7490-4961-8678-15a1c82b4f8f",
   "metadata": {},
   "outputs": [
    {
     "name": "stdout",
     "output_type": "stream",
     "text": [
      "The value of x is 32.5, and y is 40000...\n"
     ]
    }
   ],
   "source": [
    "x = 10 * 3.25\n",
    "y = 200 * 200\n",
    "s = 'The value of x is ' + repr(x) + ', and y is ' + repr(y) + '...'\n",
    "print(s)"
   ]
  },
  {
   "cell_type": "code",
   "execution_count": 20,
   "id": "d837221c-c6d3-457c-aaab-416bbaa0783c",
   "metadata": {},
   "outputs": [
    {
     "data": {
      "text/plain": [
       "\"(32.5, 40000, ('spam', 'eggs'))\""
      ]
     },
     "execution_count": 20,
     "metadata": {},
     "output_type": "execute_result"
    }
   ],
   "source": [
    "repr((x, y, ('spam', 'eggs')))"
   ]
  },
  {
   "cell_type": "code",
   "execution_count": 22,
   "id": "bc258383-cb4a-4959-9570-3bf4fca2ce1f",
   "metadata": {},
   "outputs": [
    {
     "data": {
      "text/plain": [
       "'The value of pi is approximately 3.142.'"
      ]
     },
     "execution_count": 22,
     "metadata": {},
     "output_type": "execute_result"
    }
   ],
   "source": [
    "import math\n",
    "f'The value of pi is approximately {math.pi:.3f}.'"
   ]
  },
  {
   "cell_type": "code",
   "execution_count": 23,
   "id": "62fefe77-2ea0-49ab-b648-7ec92ea5ab80",
   "metadata": {},
   "outputs": [
    {
     "name": "stdout",
     "output_type": "stream",
     "text": [
      "The value of pi is approximately 3.142.\n"
     ]
    }
   ],
   "source": [
    "print(f'The value of pi is approximately {math.pi:.3f}.')"
   ]
  },
  {
   "cell_type": "code",
   "execution_count": 24,
   "id": "83360d9e-8bb1-4dd6-8b21-f815f1c5e04d",
   "metadata": {},
   "outputs": [
    {
     "name": "stdout",
     "output_type": "stream",
     "text": [
      "Sajan      ==>       4467\n",
      "Jill       ==>       4098\n",
      "charlie    ==>       7128\n"
     ]
    }
   ],
   "source": [
    "table = {'Sajan': 4467, 'Jill': 4098, 'charlie': 7128}\n",
    "for name, phone in table.items():\n",
    "    print(f'{name:10} ==> {phone:10d}')"
   ]
  },
  {
   "cell_type": "code",
   "execution_count": 25,
   "id": "3a34b406-1bcb-4914-ad00-b76982a9fa9d",
   "metadata": {},
   "outputs": [
    {
     "name": "stdout",
     "output_type": "stream",
     "text": [
      "Sajan      ==>       4467\n",
      "Jill       ==>       4098\n",
      "charlie    ==>       7128\n"
     ]
    }
   ],
   "source": [
    "for name, phone in table.items():\n",
    "    print(f'{name:10} ==> {phone:10}')"
   ]
  },
  {
   "cell_type": "code",
   "execution_count": 26,
   "id": "cfb57f27-6a8f-4145-930e-7c6bd6d081d1",
   "metadata": {},
   "outputs": [
    {
     "name": "stdout",
     "output_type": "stream",
     "text": [
      "My hovercraft is full of eels.\n"
     ]
    }
   ],
   "source": [
    "# modifiers can be used to convert the value before it is formatted. '!a' applies ascii(), '!s' applies str(), and '!r' applies repr()\n",
    "\n",
    "animals = 'eels'\n",
    "print(f'My hovercraft is full of {animals}.')"
   ]
  },
  {
   "cell_type": "code",
   "execution_count": 27,
   "id": "72f7116d-1613-4aa2-a01a-39b17be8fc33",
   "metadata": {},
   "outputs": [
    {
     "name": "stdout",
     "output_type": "stream",
     "text": [
      "My hovercraft is full of 'eels'.\n"
     ]
    }
   ],
   "source": [
    "animals = 'eels'\n",
    "print(f'My hovercraft is full of {animals!r}.')"
   ]
  },
  {
   "cell_type": "code",
   "execution_count": 28,
   "id": "4e8a50b5-8d85-48e7-83a5-ca2fed2fa5e5",
   "metadata": {},
   "outputs": [
    {
     "name": "stdout",
     "output_type": "stream",
     "text": [
      "Debugging bugs='roaches' count=13 area='living room'\n"
     ]
    }
   ],
   "source": [
    "# The = specifier can be used to expand an expression to the text of the expression, an equal sign, then the representation of the \n",
    "# evaluated expression\n",
    "\n",
    "bugs = 'roaches'\n",
    "count = 13\n",
    "area = 'living room'\n",
    "print(f'Debugging {bugs=} {count=} {area=}')"
   ]
  },
  {
   "cell_type": "code",
   "execution_count": 29,
   "id": "b382d6c2-cdb7-4d1c-93ce-a79034ab3f53",
   "metadata": {},
   "outputs": [
    {
     "name": "stdout",
     "output_type": "stream",
     "text": [
      "Debugging 'roaches' 13 'living room'\n"
     ]
    }
   ],
   "source": [
    "print(f'Debugging {bugs!r} {count!r} {area!r}')"
   ]
  },
  {
   "cell_type": "code",
   "execution_count": 30,
   "id": "79c7dc07-eda3-46cc-81d9-75081866af50",
   "metadata": {},
   "outputs": [
    {
     "name": "stdout",
     "output_type": "stream",
     "text": [
      "Debugging 'roaches' 13 'living room'\n"
     ]
    }
   ],
   "source": [
    "print(f'Debugging {bugs!a} {count!a} {area!a}')"
   ]
  },
  {
   "cell_type": "markdown",
   "id": "e31735d4-7007-4bd3-8d88-6aa959a47612",
   "metadata": {},
   "source": [
    "## The String format() Method"
   ]
  },
  {
   "cell_type": "code",
   "execution_count": 31,
   "id": "aab5ec7e-bcc6-4caf-9709-8f95066b941e",
   "metadata": {},
   "outputs": [
    {
     "name": "stdout",
     "output_type": "stream",
     "text": [
      "We are the knights who say \"Ni!\"\n"
     ]
    }
   ],
   "source": [
    "print('We are the {} who say \"{}!\"'.format('knights', 'Ni'))"
   ]
  },
  {
   "cell_type": "code",
   "execution_count": 32,
   "id": "5c88bd21-da64-4265-860a-8a05e9fcabd4",
   "metadata": {},
   "outputs": [
    {
     "name": "stdout",
     "output_type": "stream",
     "text": [
      "We are the Pirates of the \"Carribean!\"\n"
     ]
    }
   ],
   "source": [
    "print('We are the {} of the \"{}!\"'.format('Pirates', 'Carribean'))"
   ]
  },
  {
   "cell_type": "code",
   "execution_count": 33,
   "id": "9bb9a9f8-8cba-4ec5-83d5-42e37021f0c8",
   "metadata": {},
   "outputs": [
    {
     "name": "stdout",
     "output_type": "stream",
     "text": [
      "and I have a Jar of \"Dirt!\"\n"
     ]
    }
   ],
   "source": [
    "print('and I have a {} of \"{}!\"'.format('Jar', 'Dirt'))"
   ]
  },
  {
   "cell_type": "code",
   "execution_count": 34,
   "id": "a58c6e72-04cc-45ac-8102-adecc7dd12e4",
   "metadata": {},
   "outputs": [
    {
     "name": "stdout",
     "output_type": "stream",
     "text": [
      "Radha and Shyam\n"
     ]
    }
   ],
   "source": [
    "print('{0} and {1}'.format('Radha', 'Shyam'))"
   ]
  },
  {
   "cell_type": "code",
   "execution_count": 35,
   "id": "bdf1c805-0e93-4dd6-b3ae-8727030ac014",
   "metadata": {},
   "outputs": [
    {
     "name": "stdout",
     "output_type": "stream",
     "text": [
      "Shyam and Radha\n"
     ]
    }
   ],
   "source": [
    "print('{1} and {0}'.format('Radha', 'Shyam'))"
   ]
  },
  {
   "cell_type": "code",
   "execution_count": 36,
   "id": "666f2a6a-f881-469e-83c2-d1b2a6a66d3a",
   "metadata": {},
   "outputs": [
    {
     "name": "stdout",
     "output_type": "stream",
     "text": [
      "This Kheer is absolutely delicious.\n"
     ]
    }
   ],
   "source": [
    "print('This {food} is {adjective}.'.format(food='Kheer', adjective='absolutely delicious'))"
   ]
  },
  {
   "cell_type": "code",
   "execution_count": 37,
   "id": "bfde29ca-0b67-495a-bdba-68856b91e47d",
   "metadata": {},
   "outputs": [
    {
     "name": "stdout",
     "output_type": "stream",
     "text": [
      "He is Smart, Kind, and Handsome.\n"
     ]
    }
   ],
   "source": [
    "print('He is {0}, {1}, and {other}.'.format('Smart', 'Kind',other='Handsome'))"
   ]
  },
  {
   "cell_type": "code",
   "execution_count": 40,
   "id": "53b8db2f-8573-4f92-b920-9b6e35d4868d",
   "metadata": {},
   "outputs": [
    {
     "name": "stdout",
     "output_type": "stream",
     "text": [
      "Jagdish: 108; Jatin: 4096; Despacito: 343454\n"
     ]
    }
   ],
   "source": [
    "table = {'Jagdish': 108, 'Jatin': 4096, 'Despacito': 343454}\n",
    "print('Jagdish: {0[Jagdish]:d}; Jatin: {0[Jatin]:d}; '\n",
    "      'Despacito: {0[Despacito]:d}'.format(table))"
   ]
  },
  {
   "cell_type": "code",
   "execution_count": 41,
   "id": "95e63960-ea2f-46f1-a97a-e9b52cdd53aa",
   "metadata": {},
   "outputs": [
    {
     "name": "stdout",
     "output_type": "stream",
     "text": [
      "Jagdish: 108; Jatin: 4096; Despacito: 343454\n"
     ]
    }
   ],
   "source": [
    "print('Jagdish: {Jagdish:d}; Jatin: {Jatin:d}; Despacito: {Despacito:d}'.format(**table))"
   ]
  },
  {
   "cell_type": "code",
   "execution_count": 42,
   "id": "7a7fcd35-1064-4a78-aa7a-2de45db2636a",
   "metadata": {},
   "outputs": [
    {
     "name": "stdout",
     "output_type": "stream",
     "text": [
      " 1   1    1\n",
      " 2   4    8\n",
      " 3   9   27\n",
      " 4  16   64\n",
      " 5  25  125\n",
      " 6  36  216\n",
      " 7  49  343\n",
      " 8  64  512\n",
      " 9  81  729\n",
      "10 100 1000\n"
     ]
    }
   ],
   "source": [
    "for x in range(1, 11):\n",
    "    print('{0:2d} {1:3d} {2:4d}'.format(x, x*x, x*x*x))"
   ]
  },
  {
   "cell_type": "code",
   "execution_count": 43,
   "id": "46361db7-d4a4-45a9-8818-7b9466b3467a",
   "metadata": {},
   "outputs": [
    {
     "name": "stdout",
     "output_type": "stream",
     "text": [
      " 1   1    1\n",
      " 2   4    8\n",
      " 3   9   27\n",
      " 4  16   64\n",
      " 5  25  125\n",
      " 6  36  216\n",
      " 7  49  343\n",
      " 8  64  512\n",
      " 9  81  729\n",
      "10 100 1000\n"
     ]
    }
   ],
   "source": [
    "for x in range(1, 11):\n",
    "    print(repr(x).rjust(2), repr(x*x).rjust(3), end=' ')\n",
    "    print(repr(x*x*x).rjust(4))"
   ]
  },
  {
   "cell_type": "code",
   "execution_count": null,
   "id": "944951ca-63ae-4df0-a4ce-e1b028996885",
   "metadata": {},
   "outputs": [],
   "source": [
    "# The str.rjust() method of string objects right-justifies a string in a field of a given width by padding it with spaces on the left. \n",
    "# There are similar methods str.ljust() and str.center(). \n",
    "# These methods do not write anything, they just return a new string."
   ]
  },
  {
   "cell_type": "code",
   "execution_count": 44,
   "id": "32b9c4d0-5286-43dd-aea8-de3de3085a98",
   "metadata": {},
   "outputs": [
    {
     "name": "stdout",
     "output_type": "stream",
     "text": [
      "1  1   1   \n",
      "2  4   8   \n",
      "3  9   27  \n",
      "4  16  64  \n",
      "5  25  125 \n",
      "6  36  216 \n",
      "7  49  343 \n",
      "8  64  512 \n",
      "9  81  729 \n",
      "10 100 1000\n"
     ]
    }
   ],
   "source": [
    "for x in range(1, 11):\n",
    "    print(repr(x).ljust(2), repr(x*x).ljust(3), end=' ')\n",
    "    print(repr(x*x*x).ljust(4))"
   ]
  },
  {
   "cell_type": "code",
   "execution_count": 45,
   "id": "d6a63ef4-4860-4d21-86d6-e5fc79ad87e7",
   "metadata": {},
   "outputs": [
    {
     "name": "stdout",
     "output_type": "stream",
     "text": [
      "1   1   1  \n",
      "2   4   8  \n",
      "3   9   27 \n",
      "4   16  64 \n",
      "5   25 125 \n",
      "6   36 216 \n",
      "7   49 343 \n",
      "8   64 512 \n",
      "9   81 729 \n",
      "10 100 1000\n"
     ]
    }
   ],
   "source": [
    "for x in range(1, 11):\n",
    "    print(repr(x).center(2), repr(x*x).center(3), end=' ')\n",
    "    print(repr(x*x*x).center(4))"
   ]
  },
  {
   "cell_type": "code",
   "execution_count": 46,
   "id": "22d52e43-c28d-4d97-8741-c705abd8212a",
   "metadata": {},
   "outputs": [
    {
     "data": {
      "text/plain": [
       "'00012'"
      ]
     },
     "execution_count": 46,
     "metadata": {},
     "output_type": "execute_result"
    }
   ],
   "source": [
    "'12'.zfill(5)"
   ]
  },
  {
   "cell_type": "code",
   "execution_count": 47,
   "id": "3456f7d2-8d0f-4a6c-bdbf-52c0b28f5198",
   "metadata": {},
   "outputs": [
    {
     "data": {
      "text/plain": [
       "'-003.14'"
      ]
     },
     "execution_count": 47,
     "metadata": {},
     "output_type": "execute_result"
    }
   ],
   "source": [
    "'-3.14'.zfill(7)"
   ]
  },
  {
   "cell_type": "code",
   "execution_count": 48,
   "id": "6bf84e0c-dcf8-4d20-abdb-874617318f63",
   "metadata": {},
   "outputs": [
    {
     "data": {
      "text/plain": [
       "'3.14159265359'"
      ]
     },
     "execution_count": 48,
     "metadata": {},
     "output_type": "execute_result"
    }
   ],
   "source": [
    "'3.14159265359'.zfill(5)"
   ]
  },
  {
   "cell_type": "code",
   "execution_count": 50,
   "id": "311b81f6-7d32-4223-9398-f1a08209ff5c",
   "metadata": {},
   "outputs": [
    {
     "name": "stdout",
     "output_type": "stream",
     "text": [
      "The value of pi is approximately 3.1415926536.\n"
     ]
    }
   ],
   "source": [
    "print('The value of pi is approximately %5.10f.' % math.pi)"
   ]
  },
  {
   "cell_type": "markdown",
   "id": "3a1444d5-c340-4aeb-93e3-d0217992afe5",
   "metadata": {},
   "source": [
    "## Reading and Writing Files\n",
    "\n",
    "open() returns a file object, and is most commonly used with two positional arguments and one keyword argument: open(filename, mode, encoding=None)"
   ]
  },
  {
   "cell_type": "code",
   "execution_count": 51,
   "id": "080d77db-1bdf-418c-b0d4-6a6c9c36bd9e",
   "metadata": {},
   "outputs": [],
   "source": [
    "f = open('test', 'w', encoding=\"utf-8\")"
   ]
  },
  {
   "cell_type": "code",
   "execution_count": null,
   "id": "a606fe30-8fa0-4d13-82a8-af618bf5beee",
   "metadata": {},
   "outputs": [],
   "source": [
    "# Modes can be mode can be 'r' when the file will only be read, \n",
    "# 'w' for only writing (an existing file with the same name will be erased), and \n",
    "# 'a' opens the file for appending; any data written to the file is automatically added to the end. \n",
    "# 'r+' opens the file for both reading and writing. \n",
    "# The mode argument is optional; \n",
    "# 'r' will be assumed if it’s omitted."
   ]
  },
  {
   "cell_type": "code",
   "execution_count": 54,
   "id": "2d26610a-cdb9-4405-8eba-e1061f38791e",
   "metadata": {},
   "outputs": [
    {
     "data": {
      "text/plain": [
       "True"
      ]
     },
     "execution_count": 54,
     "metadata": {},
     "output_type": "execute_result"
    }
   ],
   "source": [
    "# It is good practice to use the with keyword when dealing with file objects. \n",
    "# The advantage is that the file is properly closed after its suite finishes, even if an exception is raised at some point.\n",
    "\n",
    "with open('test', encoding=\"utf-8\") as f:\n",
    "    read_data = f.read()\n",
    "\n",
    "f.closed"
   ]
  },
  {
   "cell_type": "code",
   "execution_count": 77,
   "id": "1ba164de-c5c3-47cb-8e7d-ad965fd48bc1",
   "metadata": {},
   "outputs": [
    {
     "data": {
      "text/plain": [
       "'This is some test text.\\nIt is used for learning purposes.\\nIt is some text. \\n'"
      ]
     },
     "execution_count": 77,
     "metadata": {},
     "output_type": "execute_result"
    }
   ],
   "source": [
    "f = open('test2', 'r+', encoding=\"utf-8\")\n",
    "f.read()"
   ]
  },
  {
   "cell_type": "code",
   "execution_count": 78,
   "id": "385d1469-155a-4dc3-ac4f-1945e8900db6",
   "metadata": {},
   "outputs": [
    {
     "data": {
      "text/plain": [
       "''"
      ]
     },
     "execution_count": 78,
     "metadata": {},
     "output_type": "execute_result"
    }
   ],
   "source": [
    "f.readline()"
   ]
  },
  {
   "cell_type": "code",
   "execution_count": 79,
   "id": "df2b24bd-d0e8-4ddc-911e-0df4e0e2d981",
   "metadata": {},
   "outputs": [
    {
     "data": {
      "text/plain": [
       "15"
      ]
     },
     "execution_count": 79,
     "metadata": {},
     "output_type": "execute_result"
    }
   ],
   "source": [
    "f.write('This is a test\\n')"
   ]
  },
  {
   "cell_type": "code",
   "execution_count": 80,
   "id": "0c806b82-d3fd-4348-9c14-467e6d1e7e59",
   "metadata": {},
   "outputs": [
    {
     "data": {
      "text/plain": [
       "''"
      ]
     },
     "execution_count": 80,
     "metadata": {},
     "output_type": "execute_result"
    }
   ],
   "source": [
    "f.read()"
   ]
  },
  {
   "cell_type": "code",
   "execution_count": null,
   "id": "67f6047a-11eb-4e9c-b8aa-99a0b4c15945",
   "metadata": {},
   "outputs": [],
   "source": []
  },
  {
   "cell_type": "code",
   "execution_count": null,
   "id": "92422a1e-3ee4-4246-8356-3a6a23d9420a",
   "metadata": {},
   "outputs": [],
   "source": []
  }
 ],
 "metadata": {
  "kernelspec": {
   "display_name": "Python 3 (ipykernel)",
   "language": "python",
   "name": "python3"
  },
  "language_info": {
   "codemirror_mode": {
    "name": "ipython",
    "version": 3
   },
   "file_extension": ".py",
   "mimetype": "text/x-python",
   "name": "python",
   "nbconvert_exporter": "python",
   "pygments_lexer": "ipython3",
   "version": "3.11.4"
  }
 },
 "nbformat": 4,
 "nbformat_minor": 5
}
